# First, we need to load the dataset into Google Colab.
# This statement allows you to select the file from your laptop and upload it to Google Cloud.
# Please wait until you see 100% done and the play button is resumed. it might take a while to upload because the dataset is large

# Import necessary Python libraries
from google.colab import files

#Upload the dataset to Google Colab
uploaded = files.upload()





# Import Libraries
import pandas as pd
import numpy as np
from scipy import stats
from sklearn.preprocessing import StandardScaler
import matplotlib.pyplot as plt
import seaborn as sns

# Load the dataset
df = pd.read_csv('hotel_bookings.csv', encoding='ISO-8859-1')







print("First five rows of the dataset:")
print(df.head())

print("Last five rows of the dataset:")
print(df.tail())

print("Size of the dataset:")
print(df.shape)




# First, check and print the number of missing values (if there are any) in the dataset
print("Number of missing values:")
print(df.isnull().sum())




# 删除 'agent' 和 'company' 这两列
df.drop(columns=['agent', 'company'], inplace=True)

# 处理其他缺失值
# 填补 'children' 的空值为 0（确保为整数）
df['children'].fillna(0, inplace=True)  # 确保填充的是整数，而非字符串

# 填补 'country' 缺失值为 'not known'
df['country'].fillna('not known', inplace=True)

# 删除重复行
df.drop_duplicates(inplace=True)

# 打印处理后的数据集大小
print("数据预处理后的数据集大小：")
print(df.shape)
